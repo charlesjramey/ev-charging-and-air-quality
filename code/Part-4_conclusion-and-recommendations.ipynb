{
 "cells": [
  {
   "cell_type": "markdown",
   "id": "c25a6f6a-543b-4815-8630-6a2b39f5aae4",
   "metadata": {},
   "source": [
    "# Project 4: Quantifying Impact of EV Charging Stations on Air Quality\n",
    "\n",
    "## Part IV - Conclusion and Recommendations\n",
    "\n",
    "Authors: Aichieh Lin, Bede Young, and Charles Ramey\n",
    "\n",
    "Date: 05/05/2023\n",
    "\n",
    "---"
   ]
  },
  {
   "cell_type": "markdown",
   "id": "a8be85ef-fede-4b57-8d0d-e37638cc4c24",
   "metadata": {},
   "source": [
    "#### Notebook Links\n",
    "\n",
    "Part I - Project Intro & Data Cleaning\n",
    "- [`Part-1_setup-and-cleaning.ipynb`](../code/Part-1_setup-and-cleaning.ipynb)\n",
    "\n",
    "Part II - Exploratory Data Analysis (EDA)\n",
    "- [`Part-2_eda.ipynb`](../code/Part-2_eda.ipynb)\n",
    "\n",
    "Part III - Modeling\n",
    "- [`Part-3.1_modeling.ipynb`](../code/Part-3.1_modeling.ipynb)\n",
    "- [`Part-3.2_modeling.ipynb`](../code/Part-3.2_modeling.ipynb)"
   ]
  },
  {
   "cell_type": "markdown",
   "id": "7f00b346-58da-4d20-89c1-2e40cbb1b210",
   "metadata": {},
   "source": [
    "### Contents\n",
    "\n",
    "- [Conclusion and Recommendations](#Conclusion-and-Recommendations)\n",
    "- [Sources](#Sources)"
   ]
  },
  {
   "cell_type": "markdown",
   "id": "7d040d18-020a-441a-8af1-e810b64d0bd4",
   "metadata": {},
   "source": [
    "## Conclusion and Recommendations"
   ]
  },
  {
   "cell_type": "markdown",
   "id": "eecab744-fde6-4418-85ec-354ec6cd53d7",
   "metadata": {},
   "source": [
    "Through our analysis, we were able to conclude that there is a direct relationship between the number of available EV charging stations and the number of EVs owned. This is consistent with consumer surveys that identify lack EV charging stations as a key reason consumers are choosing not to switch to an EV. Our exploration of the data also revealed a correlation between the number of EV charging stations and the AQI for a number of states, though the evidence is not overwhelming.\n",
    "\n",
    "The models created in this project do not conclusively suggest that an increase in the number of EV charging stations and EVs will yield the desired reduction in poor air quality days. However, the findings of our EDA lead us to believe that it is worth continuing to investigate this relationship as well as other factors that influence EV ownership. Our recommendations for advancement of this analysis and next steps include:\n",
    "- Evaluating Alternative Data Sources:\n",
    "    - This analysis used daily and annual AQI data, however one shortcoming of this data is that its availability by county, state, and year varies. In some cases, AQI data is collected nearly every day of the year and in others it is collected far less. As a result, a lot of detail was lost through the normalization of the data.\n",
    "    - Using actual concentrations of emissions-specific pollutants would likely yield better results, as AQI is a measurement of overall air quality and can be influenced heavily by unrelated events like wildfires.\n",
    "- Improving the Models:\n",
    "    - While model performance is heavily impacted by the data used, time constraints hindered the optimization of modeling efforts. Additional time and care should be taken to refine and improve both time-series and regression models.\n",
    "- Investigating Other Factors:\n",
    "    - Many consumers cited insufficient charging station availability as a reason why they would not purchase an EV, though other major factors include: high cost, battery range (miles), time to charge, and a general preference for gasoline vehicles."
   ]
  },
  {
   "cell_type": "markdown",
   "id": "d82571c4-df28-48a1-ac04-9acd29eeefd0",
   "metadata": {
    "tags": []
   },
   "source": [
    "## Sources\n",
    "\n",
    "1. [https://aqs.epa.gov/aqsweb/airdata/download_files.html](https://aqs.epa.gov/aqsweb/airdata/download_files.html)\n",
    "2. [https://afdc.energy.gov/vehicle-registration](https://afdc.energy.gov/vehicle-registration)\n",
    "3. [https://afdc.energy.gov/stations/states](https://afdc.energy.gov/stations/states)\n",
    "4. [https://www.transportation.gov/mission/health/cleaner-air](https://www.transportation.gov/mission/health/cleaner-air)\n",
    "5. [https://www.who.int/health-topics/air-pollution#tab=tab_1](https://www.who.int/health-topics/air-pollution#tab=tab_1)\n",
    "6. [https://www.whitehouse.gov/briefing-room/statements-releases/2021/08/05/fact-sheet-president-biden-announces-steps-to-drive-american-leadership-forward-on-clean-cars-and-trucks/](https://www.whitehouse.gov/briefing-room/statements-releases/2021/08/05/fact-sheet-president-biden-announces-steps-to-drive-american-leadership-forward-on-clean-cars-and-trucks/)\n",
    "7. [https://www.caranddriver.com/news/g35562831/ev-plans-automakers-timeline/](https://www.caranddriver.com/news/g35562831/ev-plans-automakers-timeline/)\n",
    "8. [https://www.irs.gov/credits-deductions/credits-for-new-clean-vehicles-purchased-in-2023-or-after](https://www.irs.gov/credits-deductions/credits-for-new-clean-vehicles-purchased-in-2023-or-after)\n",
    "9. [https://www.pbs.org/newshour/nation/many-americans-arent-yet-sold-on-going-electric-for-their-next-car-poll-shows](https://www.pbs.org/newshour/nation/many-americans-arent-yet-sold-on-going-electric-for-their-next-car-poll-shows)\n",
    "10. [https://www.whitehouse.gov/briefing-room/statements-releases/2023/02/15/fact-sheet-biden-harris-administration-announces-new-standards-and-major-progress-for-a-made-in-america-national-network-of-electric-vehicle-chargers/](https://www.whitehouse.gov/briefing-room/statements-releases/2023/02/15/fact-sheet-biden-harris-administration-announces-new-standards-and-major-progress-for-a-made-in-america-national-network-of-electric-vehicle-chargers/)\n",
    "11. [https://www.epa.gov/outdoor-air-quality-data/air-data-basic-information](https://www.epa.gov/outdoor-air-quality-data/air-data-basic-information)"
   ]
  },
  {
   "cell_type": "code",
   "execution_count": null,
   "id": "33fde416-3b0e-4040-ba06-ff42d460353c",
   "metadata": {},
   "outputs": [],
   "source": []
  }
 ],
 "metadata": {
  "kernelspec": {
   "display_name": "Python 3 (ipykernel)",
   "language": "python",
   "name": "python3"
  },
  "language_info": {
   "codemirror_mode": {
    "name": "ipython",
    "version": 3
   },
   "file_extension": ".py",
   "mimetype": "text/x-python",
   "name": "python",
   "nbconvert_exporter": "python",
   "pygments_lexer": "ipython3",
   "version": "3.10.7"
  }
 },
 "nbformat": 4,
 "nbformat_minor": 5
}
